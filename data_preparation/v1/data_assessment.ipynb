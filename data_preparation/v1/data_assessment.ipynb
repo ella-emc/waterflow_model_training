{
 "cells": [
  {
   "cell_type": "markdown",
   "id": "43560f85",
   "metadata": {},
   "source": [
    "## Data Assessment of Waterflow Historical Data"
   ]
  },
  {
   "cell_type": "markdown",
   "id": "364363fa",
   "metadata": {},
   "source": [
    "**Metadata Summary**  \n",
    "- 📅 **Date of Retrieval:** JULY 1, 2025  \n",
    "- 🌐 **Source of Data:** LGU San Jacinto Treasury Records\n",
    "- 📄 **License/Permission:**  \n",
    "- 🧑‍💼 **Prepared by:** MARK JUNE E. ALMOJUELA"
   ]
  },
  {
   "cell_type": "code",
   "execution_count": 7,
   "id": "ef037bd8",
   "metadata": {},
   "outputs": [],
   "source": [
    "# Initialization\n",
    "import pandas as pd\n",
    "import numpy as np\n",
    "import matplotlib.pyplot as plt\n",
    "import seaborn as sns\n",
    "import os "
   ]
  },
  {
   "cell_type": "code",
   "execution_count": 14,
   "id": "2e357b0e",
   "metadata": {},
   "outputs": [
    {
     "name": "stdout",
     "output_type": "stream",
     "text": [
      "Available years:  ['2020', '2021', '2022', '2023', '2024', '2025'] \n",
      "\n",
      "2020: ['FEB2020.csv', 'JAN2020.csv']; \n",
      "COUNT: 2\n",
      "2021: []; \n",
      "COUNT: 0\n",
      "2022: []; \n",
      "COUNT: 0\n",
      "2023: []; \n",
      "COUNT: 0\n",
      "2024: []; \n",
      "COUNT: 0\n",
      "2025: []; \n",
      "COUNT: 0\n"
     ]
    }
   ],
   "source": [
    "# Dataset Availability and Compatibility Check\n",
    "\n",
    "data_dir_path = \"../../dataset/raw/\"\n",
    "try:\n",
    "    years = [year for year in os.listdir(data_dir_path) if os.path.isdir(os.path.join(data_dir_path, year))]\n",
    "    print(\"Available years: \", years, '\\n')\n",
    "\n",
    "    # List xlsx files in the directory\n",
    "    for year in years:\n",
    "        xlsx_files = [f for f in os.listdir(f'{data_dir_path}{year}') if f.endswith(\".csv\")]\n",
    "        print(f\"{year}: {xlsx_files}; \\nCOUNT: {len(xlsx_files)}\")\n",
    "except FileNotFoundError:\n",
    "    print(\"Directory not found\")\n",
    "except NotADirectoryError:\n",
    "    print(\"Path is not a directory\")\n",
    "except PermissionError:\n",
    "    print(\"Permission denied\")\n",
    "except Exception as e:\n",
    "    print(f\"An error occurred: {e}\")"
   ]
  },
  {
   "cell_type": "code",
   "execution_count": null,
   "id": "dec49b0b",
   "metadata": {},
   "outputs": [],
   "source": [
    "# Dataset Ingestion\n",
    "data_dir_path = \"../../dataset/raw/\""
   ]
  }
 ],
 "metadata": {
  "kernelspec": {
   "display_name": "Python 3",
   "language": "python",
   "name": "python3"
  },
  "language_info": {
   "codemirror_mode": {
    "name": "ipython",
    "version": 3
   },
   "file_extension": ".py",
   "mimetype": "text/x-python",
   "name": "python",
   "nbconvert_exporter": "python",
   "pygments_lexer": "ipython3",
   "version": "3.13.2"
  }
 },
 "nbformat": 4,
 "nbformat_minor": 5
}
