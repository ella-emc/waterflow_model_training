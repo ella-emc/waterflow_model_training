{
 "cells": [
  {
   "cell_type": "markdown",
   "id": "43560f85",
   "metadata": {},
   "source": [
    "## Data Assessment of Waterflow Historical Data"
   ]
  },
  {
   "cell_type": "markdown",
   "id": "364363fa",
   "metadata": {},
   "source": [
    "**Metadata Summary**  \n",
    "- 📅 **Date of Retrieval:** JULY 1, 2025  \n",
    "- 🌐 **Source of Data:** LGU San Jacinto Treasury Records\n",
    "- 📄 **License/Permission:**  \n",
    "- 🧑‍💼 **Prepared by:** MARK JUNE E. ALMOJUELA"
   ]
  },
  {
   "cell_type": "code",
   "execution_count": 7,
   "id": "ef037bd8",
   "metadata": {},
   "outputs": [],
   "source": [
    "# Initialization\n",
    "import pandas as pd\n",
    "import numpy as np\n",
    "import matplotlib.pyplot as plt\n",
    "import seaborn as sns\n",
    "import os "
   ]
  },
  {
   "cell_type": "code",
   "execution_count": null,
   "id": "2e357b0e",
   "metadata": {},
   "outputs": [
    {
     "name": "stdout",
     "output_type": "stream",
     "text": [
      "Available years:  ['2020', '2021', '2022', '2023', '2024', '2025'] \n",
      "\n",
      "\n",
      "2020: ['AUGUST 10-SEPTEMBER 10, 2020.xlsx', 'DECEMBER 10, 2019-JANUARY 10, 2020.xlsx', 'FEBRUARY 10-MARCH 10, 2020.xlsx', 'JANUARY 10-FEBRUARY 10, 2020.xlsx', 'JULY 10-AUGUST 10, 2020.xlsx', 'JUNE 10-JULY 10, 2020.xlsx', 'MARCH 10-FEBRUARY 10, 2020 COPY.xlsx', 'MARCH 10-MAY 10, 2020.xlsx', 'MAY 10-JUNE 10, 2020.xlsx', 'NOVEMBER 10-DECEMBER 10, 2020.xlsx', 'OCTOBER 10-NOVEMBER 10, 2020-B.xlsx', 'OCTOBER 10-NOVEMBER 10, 2020.xlsx', 'SEPTEMBER 10-OCTOBER 10, 2020.xlsx']; \n",
      "COUNT: 13\n",
      "2021: ['DECEMBER 10, 2021 - JANUARY 10, 2022.xlsx']; \n",
      "COUNT: 1\n",
      "2022: ['APRIL 10 - MAY 10, 2022.xlsx', 'DECEMBER 10, 2021 - JANUARY 10, 2022.xlsx', 'FEBRUARY 10 - MARCH 10, 2022.xlsx', 'JANUARY 10 - FEBRUARY 10, 2022.xlsx', 'JULY 10 - AUGUST 10, 2022.xlsx', 'JUNE 10 - JULY 10, 2022.xlsx', 'MARCH 10 - APRIL 10, 2022.xlsx', 'MAY 10 - JUNE 10, 2022.xlsx', 'NOVEMBER 10 - DECEMBER 10, 2022.xlsx', 'OCTOBER 10 - NOVEMBER 10, 2022.xlsx', '~�APRIL 10 - MAY 10, 2022.xlsx', '~�DECEMBER 10, 2021 - JANUARY 10, 2022.xlsx', '~�FEBRUARY 10 - MARCH 10, 2022.xlsx', '~�JANUARY 10 - FEBRUARY 10, 2022.xlsx', '~�JULY 10 - AUGUST 10, 2022.xlsx', '~�JUNE 10 - JULY 10, 2022.xlsx', '~�MARCH 10 - APRIL 10, 2022.xlsx', '~�MAY 10 - JUNE 10, 2022.xlsx', '~�NOVEMBER 10 - DECEMBER 10, 2022.xlsx', '~�OCTOBER 10 - NOVEMBER 10, 2022.xlsx']; \n",
      "COUNT: 20\n",
      "2023: ['APRIL 1-30, 2023.xlsx', 'AUGUST 1-31, 2023.xlsx', 'DECEMBER 10, 2022 - JANUARY 10, 2023.xlsx', 'FEBRUARY 10-MARCH 10, 2023.xlsx', 'JANUARY 10 - FEBRUARY 10, 2023.xlsx', 'JULY 1-31, 2023.xlsx', 'JUNE 1-30, 2023 - - Copy.xlsx', 'MAY 1-31, 2023 -.xlsx', 'OCTOBER 1-31,2023.xlsx', 'SEPTEMBER 1-30,2023.xlsx', '~�APRIL 1-30, 2023.xlsx', '~�APRIL 10 - MAY 10, 2022.xlsx', '~�AUGUST 1-31, 2023.xlsx', '~�DECEMBER 10, 2021 - JANUARY 10, 2022.xlsx', '~�DECEMBER 10, 2022 - JANUARY 10, 2023.xlsx', '~�FEBRUARY 10 - MARCH 10, 2022.xlsx', '~�FEBRUARY 10-MARCH 10, 2023.xlsx', '~�JANUARY 10 - FEBRUARY 10, 2022.xlsx', '~�JANUARY 10 - FEBRUARY 10, 2023.xlsx', '~�JANUARY 10, FEBRUARY 10, 2023 - Copy.xlsx', '~�JANUARY 10-FEBRUARY 10, 2023.xlsx', '~�JULY 1-31, 2023.xlsx', '~�JUNE 1-30, 2023 - - Copy.xlsx', '~�MARCH 10 - APRIL 10, 2022.xlsx', '~�MARCH 10-APRIL 1, 2023.xlsx', '~�MAY 1-31, 2023 -.xlsx', '~�MAY 10 - JUNE 10, 2022.xlsx', '~�November 1-31, 2023.xlsx', '~�NOVEMBER, 1-30. 2023.xlsx', '~�OCTOBER 1-31,2023.xlsx', '~�SEPTEMBER 1-30,2023.xlsx', '~�SEPTEMBER 1-31 ,2023.xlsx']; \n",
      "COUNT: 32\n",
      "2024: ['APRIL 1-30, 2024.xlsx', 'FEBRUARY 1-29, 2024.xlsx', 'JANUARY 1-30, 2024.xlsx', 'June 1-30, 2024.xlsx', 'MARCH 1-31, 2024.xlsx', 'MAY 1-31, 2024.xlsx', '~�APRIL 1-30, 2024.xlsx', '~�FEBRUARY 1-29, 2024.xlsx', '~�JANUARY 1-30, 2024.xlsx', '~�June 1-30, 2024.xlsx', '~�MARCH 1-31, 2024.xlsx', '~�MAY 1-31, 2024.xlsx']; \n",
      "COUNT: 12\n",
      "2025: []; \n",
      "COUNT: 0\n"
     ]
    }
   ],
   "source": [
    "# Dataset Availability and Compatibility Check\n",
    "\n",
    "data_dir_path = \"../../dataset/raw/\"\n",
    "try:\n",
    "    years = [year for year in os.listdir(data_dir_path) if os.path.isdir(os.path.join(data_dir_path, year))]\n",
    "    print(\"Available years: \", years, '\\n')\n",
    "    \n",
    "    # List xlsx files in the directory\n",
    "    for year in years:\n",
    "        xlsx_files = [f for f in os.listdir(f'{data_dir_path}{year}') if f.endswith(\".xlsx\")]\n",
    "        print(f\"{year}: {xlsx_files}; \\nCOUNT: {len(xlsx_files)}\")\n",
    "except FileNotFoundError:\n",
    "    print(\"Directory not found\")\n",
    "except NotADirectoryError:\n",
    "    print(\"Path is not a directory\")\n",
    "except PermissionError:\n",
    "    print(\"Permission denied\")\n",
    "except Exception as e:\n",
    "    print(f\"An error occurred: {e}\")"
   ]
  },
  {
   "cell_type": "code",
   "execution_count": 9,
   "id": "dec49b0b",
   "metadata": {},
   "outputs": [],
   "source": [
    "# Dataset Ingestion"
   ]
  }
 ],
 "metadata": {
  "kernelspec": {
   "display_name": "Python 3",
   "language": "python",
   "name": "python3"
  },
  "language_info": {
   "codemirror_mode": {
    "name": "ipython",
    "version": 3
   },
   "file_extension": ".py",
   "mimetype": "text/x-python",
   "name": "python",
   "nbconvert_exporter": "python",
   "pygments_lexer": "ipython3",
   "version": "3.13.2"
  }
 },
 "nbformat": 4,
 "nbformat_minor": 5
}
