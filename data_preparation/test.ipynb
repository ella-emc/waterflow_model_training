{
 "cells": [
  {
   "cell_type": "code",
   "id": "ffa6c88e",
   "metadata": {
    "ExecuteTime": {
     "end_time": "2025-08-28T04:12:33.788809Z",
     "start_time": "2025-08-28T04:12:31.347083Z"
    }
   },
   "source": [
    "# Initialization\n",
    "import pandas as pd\n",
    "import os "
   ],
   "outputs": [],
   "execution_count": 1
  },
  {
   "cell_type": "code",
   "id": "ad34755d",
   "metadata": {
    "ExecuteTime": {
     "end_time": "2025-08-28T04:12:34.000010Z",
     "start_time": "2025-08-28T04:12:33.923660Z"
    }
   },
   "source": [
    "from pathlib import Path\n",
    "import pandas as pd\n",
    "\n",
    "data_path = Path(r\"/dataset/clean/training/production\\tabular\\consolidated.csv\")\n",
    "df = pd.read_csv(data_path)\n",
    "print(df[df['Control Number'] == 502556])"
   ],
   "outputs": [
    {
     "name": "stdout",
     "output_type": "stream",
     "text": [
      "Empty DataFrame\n",
      "Columns: [Control Number, Account Name, Connection Status, Last Reading, 2019_DEC, 2020_JAN, 2020_FEB, 2020_MAR, 2020_APR, 2020_MAY, 2020_JUN, 2020_JUL, 2020_AUG, 2020_SEP, 2020_OCT, 2020_NOV, 2020_DEC, 2022_JAN, 2022_FEB, 2022_MAR, 2022_APR, 2022_MAY, 2022_JUN, 2022_JUL, 2022_AUG, 2022_SEP, 2022_OCT, 2022_NOV, 2022_DEC, 2023_JAN, 2023_FEB, 2023_MAR, 2023_APR, 2023_MAY, 2023_JUN, 2023_JUL, 2023_AUG, 2023_SEP, 2023_OCT, 2023_NOV, 2023_DEC, 2024_JAN, 2024_FEB, 2024_MAR, 2024_APR, 2024_MAY, 2024_JUN, 2024_JUL, 2024_AUG, 2024_SEP, 2024_OCT, 2024_NOV, 2024_DEC, 2025_JAN, 2025_FEB, 2025_MAR, 2025_APR, 2025_MAY]\n",
      "Index: []\n",
      "\n",
      "[0 rows x 58 columns]\n"
     ]
    }
   ],
   "execution_count": 2
  }
 ],
 "metadata": {
  "kernelspec": {
   "display_name": "Python 3",
   "language": "python",
   "name": "python3"
  },
  "language_info": {
   "codemirror_mode": {
    "name": "ipython",
    "version": 3
   },
   "file_extension": ".py",
   "mimetype": "text/x-python",
   "name": "python",
   "nbconvert_exporter": "python",
   "pygments_lexer": "ipython3",
   "version": "3.13.2"
  }
 },
 "nbformat": 4,
 "nbformat_minor": 5
}
